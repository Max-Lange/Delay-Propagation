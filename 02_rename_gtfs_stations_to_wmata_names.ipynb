{
 "cells": [
  {
   "cell_type": "markdown",
   "metadata": {},
   "source": [
    "# Import packages"
   ]
  },
  {
   "cell_type": "code",
   "execution_count": 1,
   "metadata": {},
   "outputs": [],
   "source": [
    "import pandas as pd\n",
    "import geopandas as gpd\n",
    "\n",
    "from helper_functions import open_processed_gtfs, open_wmata_station_data"
   ]
  },
  {
   "cell_type": "markdown",
   "metadata": {},
   "source": [
    "# Notebook settings"
   ]
  },
  {
   "cell_type": "code",
   "execution_count": 2,
   "metadata": {},
   "outputs": [],
   "source": [
    "GTFS_FOLDER = 'GTFS_20190914'"
   ]
  },
  {
   "cell_type": "markdown",
   "metadata": {},
   "source": [
    "# Load in Data"
   ]
  },
  {
   "cell_type": "code",
   "execution_count": 3,
   "metadata": {},
   "outputs": [
    {
     "data": {
      "text/html": [
       "<div>\n",
       "<style scoped>\n",
       "    .dataframe tbody tr th:only-of-type {\n",
       "        vertical-align: middle;\n",
       "    }\n",
       "\n",
       "    .dataframe tbody tr th {\n",
       "        vertical-align: top;\n",
       "    }\n",
       "\n",
       "    .dataframe thead th {\n",
       "        text-align: right;\n",
       "    }\n",
       "</style>\n",
       "<table border=\"1\" class=\"dataframe\">\n",
       "  <thead>\n",
       "    <tr style=\"text-align: right;\">\n",
       "      <th></th>\n",
       "      <th>NAME</th>\n",
       "      <th>geometry</th>\n",
       "      <th>STATION_ID</th>\n",
       "    </tr>\n",
       "  </thead>\n",
       "  <tbody>\n",
       "    <tr>\n",
       "      <th>0</th>\n",
       "      <td>SPRING HILL</td>\n",
       "      <td>POINT (-77.24189 38.9292)</td>\n",
       "      <td>N04</td>\n",
       "    </tr>\n",
       "    <tr>\n",
       "      <th>1</th>\n",
       "      <td>WIEHLE-RESTON EAST</td>\n",
       "      <td>POINT (-77.34031 38.94782)</td>\n",
       "      <td>N06</td>\n",
       "    </tr>\n",
       "    <tr>\n",
       "      <th>2</th>\n",
       "      <td>MCLEAN</td>\n",
       "      <td>POINT (-77.21053 38.92433)</td>\n",
       "      <td>N01</td>\n",
       "    </tr>\n",
       "  </tbody>\n",
       "</table>\n",
       "</div>"
      ],
      "text/plain": [
       "                 NAME                    geometry STATION_ID\n",
       "0         SPRING HILL   POINT (-77.24189 38.9292)        N04\n",
       "1  WIEHLE-RESTON EAST  POINT (-77.34031 38.94782)        N06\n",
       "2              MCLEAN  POINT (-77.21053 38.92433)        N01"
      ]
     },
     "execution_count": 3,
     "metadata": {},
     "output_type": "execute_result"
    }
   ],
   "source": [
    "# WMATA stations\n",
    "wmata_stations = open_wmata_station_data(r'Data\\GIS_RAIL_STN_PNT.csv')\n",
    "wmata_stations.head(3)"
   ]
  },
  {
   "cell_type": "code",
   "execution_count": 4,
   "metadata": {},
   "outputs": [
    {
     "name": "stderr",
     "output_type": "stream",
     "text": [
      "Skipping field from_stops: unsupported OGR type: 1\n",
      "Skipping field to_stops: unsupported OGR type: 1\n"
     ]
    },
    {
     "name": "stdout",
     "output_type": "stream",
     "text": [
      "91\n"
     ]
    },
    {
     "data": {
      "text/html": [
       "<div>\n",
       "<style scoped>\n",
       "    .dataframe tbody tr th:only-of-type {\n",
       "        vertical-align: middle;\n",
       "    }\n",
       "\n",
       "    .dataframe tbody tr th {\n",
       "        vertical-align: top;\n",
       "    }\n",
       "\n",
       "    .dataframe thead th {\n",
       "        text-align: right;\n",
       "    }\n",
       "</style>\n",
       "<table border=\"1\" class=\"dataframe\">\n",
       "  <thead>\n",
       "    <tr style=\"text-align: right;\">\n",
       "      <th></th>\n",
       "      <th>stop_id</th>\n",
       "      <th>stop_name</th>\n",
       "      <th>connections</th>\n",
       "      <th>geometry</th>\n",
       "    </tr>\n",
       "  </thead>\n",
       "  <tbody>\n",
       "    <tr>\n",
       "      <th>0</th>\n",
       "      <td>308</td>\n",
       "      <td>SHAW METRO STATION</td>\n",
       "      <td>[[1418, 10344], [10344, 1418]]</td>\n",
       "      <td>POINT (-77.02193 38.91455)</td>\n",
       "    </tr>\n",
       "    <tr>\n",
       "      <th>1</th>\n",
       "      <td>999</td>\n",
       "      <td>CHEVERLY METRO STATION</td>\n",
       "      <td>[[5030, 2124], [2124, 5030]]</td>\n",
       "      <td>POINT (-76.9151 38.91655)</td>\n",
       "    </tr>\n",
       "    <tr>\n",
       "      <th>2</th>\n",
       "      <td>1305</td>\n",
       "      <td>CAPITOL HEIGHTS METRO STATION</td>\n",
       "      <td>[[4613, 13107], [13107, 4613]]</td>\n",
       "      <td>POINT (-76.91331 38.88957)</td>\n",
       "    </tr>\n",
       "  </tbody>\n",
       "</table>\n",
       "</div>"
      ],
      "text/plain": [
       "   stop_id                      stop_name                     connections  \\\n",
       "0      308             SHAW METRO STATION  [[1418, 10344], [10344, 1418]]   \n",
       "1      999         CHEVERLY METRO STATION    [[5030, 2124], [2124, 5030]]   \n",
       "2     1305  CAPITOL HEIGHTS METRO STATION  [[4613, 13107], [13107, 4613]]   \n",
       "\n",
       "                     geometry  \n",
       "0  POINT (-77.02193 38.91455)  \n",
       "1   POINT (-76.9151 38.91655)  \n",
       "2  POINT (-76.91331 38.88957)  "
      ]
     },
     "execution_count": 4,
     "metadata": {},
     "output_type": "execute_result"
    }
   ],
   "source": [
    "# Processed GTFS stations\n",
    "gtfs_stations = open_processed_gtfs(f\"Intermediates\\\\{GTFS_FOLDER}\\\\gtfs_stations.geojson\")\n",
    "print(len(gtfs_stations))\n",
    "gtfs_stations.head(3)"
   ]
  },
  {
   "cell_type": "markdown",
   "metadata": {},
   "source": [
    "# Find WMATA station for each GTFS station and correct station names"
   ]
  },
  {
   "cell_type": "code",
   "execution_count": 5,
   "metadata": {},
   "outputs": [
    {
     "name": "stderr",
     "output_type": "stream",
     "text": [
      "C:\\Users\\lange\\AppData\\Local\\Temp\\ipykernel_376\\316876273.py:14: FutureWarning: Setting an item of incompatible dtype is deprecated and will raise an error in a future version of pandas. Value 'E02' has dtype incompatible with int32, please explicitly cast to a compatible dtype first.\n",
      "  corrected_gtfs_stations.at[index, 'stop_id'] = matching_station\n"
     ]
    },
    {
     "data": {
      "text/html": [
       "<div>\n",
       "<style scoped>\n",
       "    .dataframe tbody tr th:only-of-type {\n",
       "        vertical-align: middle;\n",
       "    }\n",
       "\n",
       "    .dataframe tbody tr th {\n",
       "        vertical-align: top;\n",
       "    }\n",
       "\n",
       "    .dataframe thead th {\n",
       "        text-align: right;\n",
       "    }\n",
       "</style>\n",
       "<table border=\"1\" class=\"dataframe\">\n",
       "  <thead>\n",
       "    <tr style=\"text-align: right;\">\n",
       "      <th></th>\n",
       "      <th>stop_id</th>\n",
       "      <th>stop_name</th>\n",
       "      <th>connections</th>\n",
       "      <th>geometry</th>\n",
       "    </tr>\n",
       "  </thead>\n",
       "  <tbody>\n",
       "    <tr>\n",
       "      <th>0</th>\n",
       "      <td>E02</td>\n",
       "      <td>SHAW METRO STATION</td>\n",
       "      <td>[[E03, E01], [E01, E03]]</td>\n",
       "      <td>POINT (-77.02193 38.91455)</td>\n",
       "    </tr>\n",
       "    <tr>\n",
       "      <th>1</th>\n",
       "      <td>D11</td>\n",
       "      <td>CHEVERLY METRO STATION</td>\n",
       "      <td>[[D10, D12], [D12, D10]]</td>\n",
       "      <td>POINT (-76.9151 38.91655)</td>\n",
       "    </tr>\n",
       "    <tr>\n",
       "      <th>2</th>\n",
       "      <td>G02</td>\n",
       "      <td>CAPITOL HEIGHTS METRO STATION</td>\n",
       "      <td>[[G01, G03], [G03, G01]]</td>\n",
       "      <td>POINT (-76.91331 38.88957)</td>\n",
       "    </tr>\n",
       "    <tr>\n",
       "      <th>3</th>\n",
       "      <td>E03</td>\n",
       "      <td>U STREET METRO STATION</td>\n",
       "      <td>[[E04, E02], [E02, E04]]</td>\n",
       "      <td>POINT (-77.02917 38.91702)</td>\n",
       "    </tr>\n",
       "    <tr>\n",
       "      <th>4</th>\n",
       "      <td>D12</td>\n",
       "      <td>LANDOVER METRO STATION</td>\n",
       "      <td>[[D11, D13], [D13, D11]]</td>\n",
       "      <td>POINT (-76.89 38.93399)</td>\n",
       "    </tr>\n",
       "  </tbody>\n",
       "</table>\n",
       "</div>"
      ],
      "text/plain": [
       "  stop_id                      stop_name               connections  \\\n",
       "0     E02             SHAW METRO STATION  [[E03, E01], [E01, E03]]   \n",
       "1     D11         CHEVERLY METRO STATION  [[D10, D12], [D12, D10]]   \n",
       "2     G02  CAPITOL HEIGHTS METRO STATION  [[G01, G03], [G03, G01]]   \n",
       "3     E03         U STREET METRO STATION  [[E04, E02], [E02, E04]]   \n",
       "4     D12         LANDOVER METRO STATION  [[D11, D13], [D13, D11]]   \n",
       "\n",
       "                     geometry  \n",
       "0  POINT (-77.02193 38.91455)  \n",
       "1   POINT (-76.9151 38.91655)  \n",
       "2  POINT (-76.91331 38.88957)  \n",
       "3  POINT (-77.02917 38.91702)  \n",
       "4     POINT (-76.89 38.93399)  "
      ]
     },
     "execution_count": 5,
     "metadata": {},
     "output_type": "execute_result"
    }
   ],
   "source": [
    "# Set both gdf's to a local XY crs\n",
    "wmata_stations = wmata_stations.to_crs('EPSG:2248')\n",
    "gtfs_stations = gtfs_stations.to_crs('EPSG:2248')\n",
    "\n",
    "corrected_gtfs_stations = gtfs_stations.copy()\n",
    "# Save correction to save time correcting other files\n",
    "correction_dict = {}\n",
    "# First find matching stations and correct stop_id and stop_name\n",
    "for index, stop in gtfs_stations.iterrows():\n",
    "    wmata_stations['distance'] = wmata_stations.distance(stop['geometry'])\n",
    "    wmata_stations = wmata_stations.sort_values(by='distance')\n",
    "    \n",
    "    matching_station = wmata_stations['STATION_ID'].values[0]\n",
    "    corrected_gtfs_stations.at[index, 'stop_id'] = matching_station\n",
    "    correction_dict[stop['stop_id']] = matching_station\n",
    "\n",
    "# Then correct from-to stop lists\n",
    "for index, stop in corrected_gtfs_stations.iterrows():\n",
    "\n",
    "    connections = []\n",
    "    for connection in stop['connections']:\n",
    "        connection_1 = connection[0]\n",
    "        connection_2 = connection[1]\n",
    "        if connection_1 != 'None':\n",
    "            connection_1 = correction_dict[connection_1]\n",
    "        if connection_2 != 'None':\n",
    "            connection_2 = correction_dict[connection_2]\n",
    "\n",
    "        connections.append([connection_1, connection_2])\n",
    "    corrected_gtfs_stations.at[index, 'connections'] = connections\n",
    "\n",
    "corrected_gtfs_stations = corrected_gtfs_stations.to_crs('EPSG:4326')  # All gdf are saved in geodesic, so we convert back\n",
    "corrected_gtfs_stations.to_file(f\"Intermediates\\\\{GTFS_FOLDER}\\\\gtfs_stations_corrected.geojson\", driver=\"GeoJSON\")\n",
    "corrected_gtfs_stations.head(5)"
   ]
  },
  {
   "cell_type": "markdown",
   "metadata": {},
   "source": [
    "# Correct links"
   ]
  },
  {
   "cell_type": "code",
   "execution_count": null,
   "metadata": {},
   "outputs": [
    {
     "name": "stderr",
     "output_type": "stream",
     "text": [
      "C:\\Users\\lange\\AppData\\Local\\Temp\\ipykernel_376\\511145685.py:5: FutureWarning: Setting an item of incompatible dtype is deprecated and will raise an error in a future version of pandas. Value 'A15' has dtype incompatible with int32, please explicitly cast to a compatible dtype first.\n",
      "  gtfs_shapes_corrected.at[index, 'from_stop'] = correction_dict[shape['from_stop']]\n",
      "C:\\Users\\lange\\AppData\\Local\\Temp\\ipykernel_376\\511145685.py:6: FutureWarning: Setting an item of incompatible dtype is deprecated and will raise an error in a future version of pandas. Value 'A14' has dtype incompatible with int32, please explicitly cast to a compatible dtype first.\n",
      "  gtfs_shapes_corrected.at[index, 'to_stop'] = correction_dict[shape['to_stop']]\n"
     ]
    },
    {
     "data": {
      "text/html": [
       "<div>\n",
       "<style scoped>\n",
       "    .dataframe tbody tr th:only-of-type {\n",
       "        vertical-align: middle;\n",
       "    }\n",
       "\n",
       "    .dataframe tbody tr th {\n",
       "        vertical-align: top;\n",
       "    }\n",
       "\n",
       "    .dataframe thead th {\n",
       "        text-align: right;\n",
       "    }\n",
       "</style>\n",
       "<table border=\"1\" class=\"dataframe\">\n",
       "  <thead>\n",
       "    <tr style=\"text-align: right;\">\n",
       "      <th></th>\n",
       "      <th>link_id</th>\n",
       "      <th>from_stop</th>\n",
       "      <th>to_stop</th>\n",
       "      <th>travel_time</th>\n",
       "      <th>geometry</th>\n",
       "    </tr>\n",
       "  </thead>\n",
       "  <tbody>\n",
       "    <tr>\n",
       "      <th>0</th>\n",
       "      <td>A15_to_A14</td>\n",
       "      <td>A15</td>\n",
       "      <td>A14</td>\n",
       "      <td>240</td>\n",
       "      <td>LINESTRING (-77.16476 39.11999, -77.14669 39.0...</td>\n",
       "    </tr>\n",
       "    <tr>\n",
       "      <th>1</th>\n",
       "      <td>A14_to_A13</td>\n",
       "      <td>A14</td>\n",
       "      <td>A13</td>\n",
       "      <td>180</td>\n",
       "      <td>LINESTRING (-77.14669 39.08545, -77.12079 39.0...</td>\n",
       "    </tr>\n",
       "    <tr>\n",
       "      <th>2</th>\n",
       "      <td>A13_to_A12</td>\n",
       "      <td>A13</td>\n",
       "      <td>A12</td>\n",
       "      <td>180</td>\n",
       "      <td>LINESTRING (-77.12079 39.06239, -77.11278 39.0...</td>\n",
       "    </tr>\n",
       "  </tbody>\n",
       "</table>\n",
       "</div>"
      ],
      "text/plain": [
       "      link_id from_stop to_stop travel_time  \\\n",
       "0  A15_to_A14       A15     A14         240   \n",
       "1  A14_to_A13       A14     A13         180   \n",
       "2  A13_to_A12       A13     A12         180   \n",
       "\n",
       "                                            geometry  \n",
       "0  LINESTRING (-77.16476 39.11999, -77.14669 39.0...  \n",
       "1  LINESTRING (-77.14669 39.08545, -77.12079 39.0...  \n",
       "2  LINESTRING (-77.12079 39.06239, -77.11278 39.0...  "
      ]
     },
     "execution_count": 6,
     "metadata": {},
     "output_type": "execute_result"
    }
   ],
   "source": [
    "gtfs_shapes = gpd.read_file(f\"Intermediates\\\\{GTFS_FOLDER}\\\\gtfs_links.geojson\")\n",
    "\n",
    "gtfs_shapes_corrected = gtfs_shapes.copy()\n",
    "for index, shape in gtfs_shapes.iterrows():\n",
    "    gtfs_shapes_corrected.at[index, 'from_stop'] = correction_dict[shape['from_stop']]\n",
    "    gtfs_shapes_corrected.at[index, 'to_stop'] = correction_dict[shape['to_stop']]\n",
    "    gtfs_shapes_corrected.at[index, 'link_id'] = f\"{gtfs_shapes_corrected.at[index, 'from_stop']}_to_{gtfs_shapes_corrected.at[index, 'to_stop']}\"\n",
    "\n",
    "gtfs_shapes_corrected.to_file(f\"Intermediates\\\\{GTFS_FOLDER}\\\\gtfs_links_corrected.geojson\", driver=\"GeoJSON\", index=False)\n",
    "gtfs_shapes_corrected.head(3)"
   ]
  },
  {
   "cell_type": "markdown",
   "metadata": {},
   "source": [
    "# Correct stop_datetimes"
   ]
  },
  {
   "cell_type": "code",
   "execution_count": null,
   "metadata": {},
   "outputs": [
    {
     "data": {
      "text/html": [
       "<div>\n",
       "<style scoped>\n",
       "    .dataframe tbody tr th:only-of-type {\n",
       "        vertical-align: middle;\n",
       "    }\n",
       "\n",
       "    .dataframe tbody tr th {\n",
       "        vertical-align: top;\n",
       "    }\n",
       "\n",
       "    .dataframe thead th {\n",
       "        text-align: right;\n",
       "    }\n",
       "</style>\n",
       "<table border=\"1\" class=\"dataframe\">\n",
       "  <thead>\n",
       "    <tr style=\"text-align: right;\">\n",
       "      <th></th>\n",
       "      <th>line_name</th>\n",
       "      <th>trip_id</th>\n",
       "      <th>shape_id</th>\n",
       "      <th>stop</th>\n",
       "      <th>arrival_time</th>\n",
       "      <th>previous_stop</th>\n",
       "      <th>next_stop</th>\n",
       "    </tr>\n",
       "  </thead>\n",
       "  <tbody>\n",
       "    <tr>\n",
       "      <th>0</th>\n",
       "      <td>BLUE</td>\n",
       "      <td>3121350_18154_2019-09-14</td>\n",
       "      <td>46</td>\n",
       "      <td>4697</td>\n",
       "      <td>2019-09-14 06:54:00</td>\n",
       "      <td></td>\n",
       "      <td>4664</td>\n",
       "    </tr>\n",
       "    <tr>\n",
       "      <th>1</th>\n",
       "      <td>BLUE</td>\n",
       "      <td>3121350_18154_2019-09-14</td>\n",
       "      <td>46</td>\n",
       "      <td>4664</td>\n",
       "      <td>2019-09-14 06:57:00</td>\n",
       "      <td>4697</td>\n",
       "      <td>13107</td>\n",
       "    </tr>\n",
       "    <tr>\n",
       "      <th>2</th>\n",
       "      <td>GREEN</td>\n",
       "      <td>3120258_18154_2019-09-14</td>\n",
       "      <td>117</td>\n",
       "      <td>21110</td>\n",
       "      <td>2019-09-14 07:00:00</td>\n",
       "      <td></td>\n",
       "      <td>10142</td>\n",
       "    </tr>\n",
       "  </tbody>\n",
       "</table>\n",
       "</div>"
      ],
      "text/plain": [
       "  line_name                   trip_id shape_id   stop         arrival_time  \\\n",
       "0      BLUE  3121350_18154_2019-09-14       46   4697  2019-09-14 06:54:00   \n",
       "1      BLUE  3121350_18154_2019-09-14       46   4664  2019-09-14 06:57:00   \n",
       "2     GREEN  3120258_18154_2019-09-14      117  21110  2019-09-14 07:00:00   \n",
       "\n",
       "  previous_stop next_stop  \n",
       "0                    4664  \n",
       "1          4697     13107  \n",
       "2                   10142  "
      ]
     },
     "execution_count": 7,
     "metadata": {},
     "output_type": "execute_result"
    }
   ],
   "source": [
    "gtfs_stoptimes = gpd.read_file(f\"Intermediates\\\\{GTFS_FOLDER}\\\\gtfs_stop_datetimes.csv\", index=False)\n",
    "gtfs_stoptimes.head(3)"
   ]
  },
  {
   "cell_type": "code",
   "execution_count": 8,
   "metadata": {},
   "outputs": [
    {
     "data": {
      "text/html": [
       "<div>\n",
       "<style scoped>\n",
       "    .dataframe tbody tr th:only-of-type {\n",
       "        vertical-align: middle;\n",
       "    }\n",
       "\n",
       "    .dataframe tbody tr th {\n",
       "        vertical-align: top;\n",
       "    }\n",
       "\n",
       "    .dataframe thead th {\n",
       "        text-align: right;\n",
       "    }\n",
       "</style>\n",
       "<table border=\"1\" class=\"dataframe\">\n",
       "  <thead>\n",
       "    <tr style=\"text-align: right;\">\n",
       "      <th></th>\n",
       "      <th>line_name</th>\n",
       "      <th>trip_id</th>\n",
       "      <th>shape_id</th>\n",
       "      <th>stop</th>\n",
       "      <th>arrival_time</th>\n",
       "      <th>previous_stop</th>\n",
       "      <th>next_stop</th>\n",
       "    </tr>\n",
       "  </thead>\n",
       "  <tbody>\n",
       "    <tr>\n",
       "      <th>0</th>\n",
       "      <td>BLUE</td>\n",
       "      <td>3121350_18154_2019-09-14</td>\n",
       "      <td>46</td>\n",
       "      <td>G05</td>\n",
       "      <td>2019-09-14 06:54:00</td>\n",
       "      <td></td>\n",
       "      <td>G04</td>\n",
       "    </tr>\n",
       "    <tr>\n",
       "      <th>1</th>\n",
       "      <td>BLUE</td>\n",
       "      <td>3121350_18154_2019-09-14</td>\n",
       "      <td>46</td>\n",
       "      <td>G04</td>\n",
       "      <td>2019-09-14 06:57:00</td>\n",
       "      <td>G05</td>\n",
       "      <td>G03</td>\n",
       "    </tr>\n",
       "    <tr>\n",
       "      <th>2</th>\n",
       "      <td>GREEN</td>\n",
       "      <td>3120258_18154_2019-09-14</td>\n",
       "      <td>117</td>\n",
       "      <td>F11</td>\n",
       "      <td>2019-09-14 07:00:00</td>\n",
       "      <td></td>\n",
       "      <td>F10</td>\n",
       "    </tr>\n",
       "  </tbody>\n",
       "</table>\n",
       "</div>"
      ],
      "text/plain": [
       "  line_name                   trip_id shape_id stop         arrival_time  \\\n",
       "0      BLUE  3121350_18154_2019-09-14       46  G05  2019-09-14 06:54:00   \n",
       "1      BLUE  3121350_18154_2019-09-14       46  G04  2019-09-14 06:57:00   \n",
       "2     GREEN  3120258_18154_2019-09-14      117  F11  2019-09-14 07:00:00   \n",
       "\n",
       "  previous_stop next_stop  \n",
       "0                     G04  \n",
       "1           G05       G03  \n",
       "2                     F10  "
      ]
     },
     "execution_count": 8,
     "metadata": {},
     "output_type": "execute_result"
    }
   ],
   "source": [
    "correction_dict_stings = {str(key): value for key, value in correction_dict.items()}\n",
    "\n",
    "gtfs_stoptimes_corrected = gtfs_stoptimes.copy()\n",
    "gtfs_stoptimes_corrected['stop'] = gtfs_stoptimes_corrected['stop'].replace(correction_dict_stings)\n",
    "gtfs_stoptimes_corrected['previous_stop'] = gtfs_stoptimes_corrected['previous_stop'].replace(correction_dict_stings)\n",
    "gtfs_stoptimes_corrected['next_stop'] = gtfs_stoptimes_corrected['next_stop'].replace(correction_dict_stings)\n",
    "\n",
    "gtfs_stoptimes_corrected.to_csv(f\"Intermediates\\\\{GTFS_FOLDER}\\\\gtfs_stop_datetimes_corrected.csv\", index=False)\n",
    "gtfs_stoptimes_corrected.head(3)"
   ]
  },
  {
   "cell_type": "code",
   "execution_count": 11,
   "metadata": {},
   "outputs": [
    {
     "name": "stdout",
     "output_type": "stream",
     "text": [
      "4_809_781\n",
      "2019-09-14 06:54:00 2020-03-12 00:15:00\n"
     ]
    }
   ],
   "source": [
    "print(f\"{len(gtfs_stoptimes_corrected):_}\")\n",
    "# Get first and last dates to filter wmata stop datetimes by in next notebook\n",
    "print(gtfs_stoptimes_corrected['arrival_time'].min(), gtfs_stoptimes_corrected['arrival_time'].max())"
   ]
  },
  {
   "cell_type": "code",
   "execution_count": null,
   "metadata": {},
   "outputs": [],
   "source": []
  }
 ],
 "metadata": {
  "kernelspec": {
   "display_name": "Python 3",
   "language": "python",
   "name": "python3"
  },
  "language_info": {
   "codemirror_mode": {
    "name": "ipython",
    "version": 3
   },
   "file_extension": ".py",
   "mimetype": "text/x-python",
   "name": "python",
   "nbconvert_exporter": "python",
   "pygments_lexer": "ipython3",
   "version": "3.12.4"
  }
 },
 "nbformat": 4,
 "nbformat_minor": 2
}
